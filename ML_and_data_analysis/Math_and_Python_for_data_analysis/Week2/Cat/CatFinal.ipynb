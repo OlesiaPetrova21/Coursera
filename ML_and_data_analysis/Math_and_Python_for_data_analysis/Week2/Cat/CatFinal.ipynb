{
 "cells": [
  {
   "cell_type": "code",
   "execution_count": 1,
   "metadata": {},
   "outputs": [],
   "source": [
    "import pandas as pd\n",
    "import re\n",
    "import numpy as np\n",
    "import scipy.spatial.distance"
   ]
  },
  {
   "cell_type": "code",
   "execution_count": 2,
   "metadata": {},
   "outputs": [],
   "source": [
    "f = open('cats_text.txt', 'r')"
   ]
  },
  {
   "cell_type": "code",
   "execution_count": 3,
   "metadata": {},
   "outputs": [],
   "source": [
    "data_list = list(f)"
   ]
  },
  {
   "cell_type": "code",
   "execution_count": 4,
   "metadata": {},
   "outputs": [
    {
     "name": "stdout",
     "output_type": "stream",
     "text": [
      "22\n"
     ]
    }
   ],
   "source": [
    "print len(data_list)"
   ]
  },
  {
   "cell_type": "code",
   "execution_count": 5,
   "metadata": {},
   "outputs": [],
   "source": [
    "i = 0"
   ]
  },
  {
   "cell_type": "code",
   "execution_count": 6,
   "metadata": {},
   "outputs": [],
   "source": [
    "while i < len(data_list):\n",
    "    data_list[i] = data_list[i].lower()\n",
    "    i += 1"
   ]
  },
  {
   "cell_type": "code",
   "execution_count": 13,
   "metadata": {},
   "outputs": [],
   "source": [
    "word = []\n",
    "for line in data_list:\n",
    "    word.append(re.split('[^a-z]', line))"
   ]
  },
  {
   "cell_type": "code",
   "execution_count": 14,
   "metadata": {},
   "outputs": [
    {
     "name": "stdout",
     "output_type": "stream",
     "text": [
      "cat\n"
     ]
    }
   ],
   "source": [
    "print word[1][1]"
   ]
  },
  {
   "cell_type": "code",
   "execution_count": 15,
   "metadata": {},
   "outputs": [
    {
     "name": "stdout",
     "output_type": "stream",
     "text": [
      "<type 'list'>\n"
     ]
    }
   ],
   "source": [
    "print type(word[0])"
   ]
  },
  {
   "cell_type": "code",
   "execution_count": 24,
   "metadata": {},
   "outputs": [],
   "source": [
    "i = 0\n",
    "j = 0\n",
    "while j < len(data_list):\n",
    "    #print len(data_list)\n",
    "    #print len(word[j])\n",
    "    while i < len(word[j]):\n",
    "        if word[j][i] == '':\n",
    "            #print word[j][i]\n",
    "            word[j].pop(i)\n",
    "        #print i\n",
    "        #print word[j][i]\n",
    "        i += 1\n",
    "    i = 0\n",
    "    j += 1"
   ]
  },
  {
   "cell_type": "code",
   "execution_count": 26,
   "metadata": {},
   "outputs": [],
   "source": [
    "i = 0\n",
    "j = 0\n",
    "word_list = []\n",
    "while j < len(data_list):\n",
    "    for el in word[j]:\n",
    "        word_list.append(el)\n",
    "        i += 1\n",
    "    j += 1"
   ]
  },
  {
   "cell_type": "code",
   "execution_count": 27,
   "metadata": {},
   "outputs": [],
   "source": [
    "word_list = sorted(word_list)"
   ]
  },
  {
   "cell_type": "code",
   "execution_count": 45,
   "metadata": {},
   "outputs": [],
   "source": [
    "for i in range(1, 250):\n",
    "    if word_list[i-1] == word_list[i]:\n",
    "        del word_list[i]\n",
    "        #print i"
   ]
  },
  {
   "cell_type": "code",
   "execution_count": 46,
   "metadata": {},
   "outputs": [],
   "source": [
    "i = 0\n",
    "j = 0\n",
    "word_dict = {}\n",
    "while j < len(word_list):\n",
    "    word_dict[i] = word_list[j]\n",
    "    i += 1\n",
    "    j += 1"
   ]
  },
  {
   "cell_type": "code",
   "execution_count": 47,
   "metadata": {},
   "outputs": [
    {
     "data": {
      "text/plain": [
       "{0: 'a',\n",
       " 1: 'according',\n",
       " 2: 'adjacent',\n",
       " 3: 'allow',\n",
       " 4: 'allows',\n",
       " 5: 'also',\n",
       " 6: 'an',\n",
       " 7: 'ancestor',\n",
       " 8: 'and',\n",
       " 9: 'animals',\n",
       " 10: 'any',\n",
       " 11: 'app',\n",
       " 12: 'apple',\n",
       " 13: 'are',\n",
       " 14: 'arguments',\n",
       " 15: 'artificial',\n",
       " 16: 'as',\n",
       " 17: 'available',\n",
       " 18: 'based',\n",
       " 19: 'basic',\n",
       " 20: 'be',\n",
       " 21: 'between',\n",
       " 22: 'binary',\n",
       " 23: 'both',\n",
       " 24: 'by',\n",
       " 25: 'bytes',\n",
       " 26: 'can',\n",
       " 27: 'cat',\n",
       " 28: 'catenates',\n",
       " 29: 'cats',\n",
       " 30: 'changes',\n",
       " 31: 'chromosomes',\n",
       " 32: 'clear',\n",
       " 33: 'closest',\n",
       " 34: 'command',\n",
       " 35: 'commands',\n",
       " 36: 'common',\n",
       " 37: 'community',\n",
       " 38: 'comparison',\n",
       " 39: 'computers',\n",
       " 40: 'concatenate',\n",
       " 41: 'concern',\n",
       " 42: 'connected',\n",
       " 43: 'contains',\n",
       " 44: 'content',\n",
       " 45: 'count',\n",
       " 46: 'create',\n",
       " 47: 'default',\n",
       " 48: 'delete',\n",
       " 49: 'deliberately',\n",
       " 50: 'developed',\n",
       " 51: 'diploid',\n",
       " 52: 'disk',\n",
       " 53: 'displays',\n",
       " 54: 'dogs',\n",
       " 55: 'domestic',\n",
       " 56: 'domesticated',\n",
       " 57: 'domestication',\n",
       " 58: 'download',\n",
       " 59: 'drive',\n",
       " 60: 'during',\n",
       " 61: 'ears',\n",
       " 62: 'editions',\n",
       " 63: 'enhancements',\n",
       " 64: 'entirely',\n",
       " 65: 'error',\n",
       " 66: 'every',\n",
       " 67: 'external',\n",
       " 68: 'factory',\n",
       " 69: 'faint',\n",
       " 70: 'features',\n",
       " 71: 'felis',\n",
       " 72: 'fifth',\n",
       " 73: 'file',\n",
       " 74: 'files',\n",
       " 75: 'firmware',\n",
       " 76: 'flow',\n",
       " 77: 'for',\n",
       " 78: 'frequency',\n",
       " 79: 'from',\n",
       " 80: 'genes',\n",
       " 81: 'genus',\n",
       " 82: 'has',\n",
       " 83: 'have',\n",
       " 84: 'hear',\n",
       " 85: 'high',\n",
       " 86: 'however',\n",
       " 87: 'human',\n",
       " 88: 'if',\n",
       " 89: 'in',\n",
       " 90: 'incremental',\n",
       " 91: 'information',\n",
       " 92: 'installation',\n",
       " 93: 'installed',\n",
       " 94: 'installs',\n",
       " 95: 'instead',\n",
       " 96: 'intel',\n",
       " 97: 'interactive',\n",
       " 98: 'is',\n",
       " 99: 'it',\n",
       " 100: 'its',\n",
       " 101: 'july',\n",
       " 102: 'just',\n",
       " 103: 'keyboards',\n",
       " 104: 'kg',\n",
       " 105: 'later',\n",
       " 106: 'lb',\n",
       " 107: 'learned',\n",
       " 108: 'left',\n",
       " 109: 'legibility',\n",
       " 110: 'leopard',\n",
       " 111: 'lines',\n",
       " 112: 'linux',\n",
       " 113: 'lion',\n",
       " 114: 'longer',\n",
       " 115: 'mac',\n",
       " 116: 'made',\n",
       " 117: 'major',\n",
       " 118: 'marks',\n",
       " 119: 'mavericks',\n",
       " 120: 'may',\n",
       " 121: 'members',\n",
       " 122: 'mice',\n",
       " 123: 'mid',\n",
       " 124: 'more',\n",
       " 125: 'most',\n",
       " 126: 'mountain',\n",
       " 127: 'moved',\n",
       " 128: 'named',\n",
       " 129: 'need',\n",
       " 130: 'needing',\n",
       " 131: 'new',\n",
       " 132: 'no',\n",
       " 133: 'non',\n",
       " 134: 'not',\n",
       " 135: 'now',\n",
       " 136: 'october',\n",
       " 137: 'of',\n",
       " 138: 'off',\n",
       " 139: 'offered',\n",
       " 140: 'often',\n",
       " 141: 'on',\n",
       " 142: 'one',\n",
       " 143: 'online',\n",
       " 144: 'or',\n",
       " 145: 'organisms',\n",
       " 146: 'os',\n",
       " 147: 'osx',\n",
       " 148: 'other',\n",
       " 149: 'output',\n",
       " 150: 'over',\n",
       " 151: 'part',\n",
       " 152: 'patch',\n",
       " 153: 'people',\n",
       " 154: 'permanently',\n",
       " 155: 'piped',\n",
       " 156: 'pipes',\n",
       " 157: 'place',\n",
       " 158: 'possess',\n",
       " 159: 'predators',\n",
       " 160: 'predecessor',\n",
       " 161: 'process',\n",
       " 162: 'processors',\n",
       " 163: 'purchase',\n",
       " 164: 'rather',\n",
       " 165: 'read',\n",
       " 166: 'received',\n",
       " 167: 'receives',\n",
       " 168: 'recent',\n",
       " 169: 'redirected',\n",
       " 170: 'redirection',\n",
       " 171: 'release',\n",
       " 172: 'released',\n",
       " 173: 'releases',\n",
       " 174: 'releasing',\n",
       " 175: 'right',\n",
       " 176: 'roughly',\n",
       " 177: 'run',\n",
       " 178: 'running',\n",
       " 179: 's',\n",
       " 180: 'safari',\n",
       " 181: 'safer',\n",
       " 182: 'second',\n",
       " 183: 'selection',\n",
       " 184: 'separate',\n",
       " 185: 'sequence',\n",
       " 186: 'similar',\n",
       " 187: 'simply',\n",
       " 188: 'since',\n",
       " 189: 'single',\n",
       " 190: 'size',\n",
       " 191: 'small',\n",
       " 192: 'so',\n",
       " 193: 'some',\n",
       " 194: 'sounds',\n",
       " 195: 'standard',\n",
       " 196: 'started',\n",
       " 197: 'starting',\n",
       " 198: 'stdin',\n",
       " 199: 'stdout',\n",
       " 200: 'store',\n",
       " 201: 'streams',\n",
       " 202: 'successor',\n",
       " 203: 'such',\n",
       " 204: 'switch',\n",
       " 205: 'symbol',\n",
       " 206: 'symbols',\n",
       " 207: 't',\n",
       " 208: 'tamed',\n",
       " 209: 'terms',\n",
       " 210: 'than',\n",
       " 211: 'that',\n",
       " 212: 'the',\n",
       " 213: 'their',\n",
       " 214: 'they',\n",
       " 215: 'those',\n",
       " 216: 'three',\n",
       " 217: 'through',\n",
       " 218: 'tiger',\n",
       " 219: 'time',\n",
       " 220: 'to',\n",
       " 221: 'too',\n",
       " 222: 'two',\n",
       " 223: 'type',\n",
       " 224: 'typically',\n",
       " 225: 'undergone',\n",
       " 226: 'unix',\n",
       " 227: 'unnecessary',\n",
       " 228: 'update',\n",
       " 229: 'upgrade',\n",
       " 230: 'use',\n",
       " 231: 'used',\n",
       " 232: 'useful',\n",
       " 233: 'using',\n",
       " 234: 'vermin',\n",
       " 235: 'version',\n",
       " 236: 'versions',\n",
       " 237: 'was',\n",
       " 238: 'weighing',\n",
       " 239: 'were',\n",
       " 240: 'when',\n",
       " 241: 'where',\n",
       " 242: 'which',\n",
       " 243: 'wild',\n",
       " 244: 'will',\n",
       " 245: 'with',\n",
       " 246: 'without',\n",
       " 247: 'won',\n",
       " 248: 'world',\n",
       " 249: 'wrong',\n",
       " 250: 'x',\n",
       " 251: 'year',\n",
       " 252: 'yosemite',\n",
       " 253: 'you'}"
      ]
     },
     "execution_count": 47,
     "metadata": {},
     "output_type": "execute_result"
    }
   ],
   "source": [
    "word_dict"
   ]
  },
  {
   "cell_type": "code",
   "execution_count": 48,
   "metadata": {},
   "outputs": [],
   "source": [
    "mass = np.zeros((len(data_list), len(word_dict)))\n",
    "count = 0\n",
    "for i in range(0, len(data_list)):\n",
    "    for j in range(0, len(word_dict)):\n",
    "        mass[i][j] = word[i].count(word_dict[j])"
   ]
  },
  {
   "cell_type": "code",
   "execution_count": 49,
   "metadata": {},
   "outputs": [
    {
     "data": {
      "text/plain": [
       "array([[0., 0., 0., ..., 0., 0., 0.],\n",
       "       [0., 0., 0., ..., 0., 0., 0.],\n",
       "       [3., 0., 0., ..., 0., 0., 0.],\n",
       "       ...,\n",
       "       [1., 0., 0., ..., 0., 0., 0.],\n",
       "       [1., 0., 0., ..., 0., 0., 1.],\n",
       "       [1., 0., 0., ..., 0., 0., 0.]])"
      ]
     },
     "execution_count": 49,
     "metadata": {},
     "output_type": "execute_result"
    }
   ],
   "source": [
    "mass"
   ]
  },
  {
   "cell_type": "code",
   "execution_count": 50,
   "metadata": {},
   "outputs": [],
   "source": [
    "dists = []\n",
    "for row in mass:\n",
    "    dists.append(scipy.spatial.distance.cosine(mass[0,:], row))"
   ]
  },
  {
   "cell_type": "code",
   "execution_count": 51,
   "metadata": {},
   "outputs": [
    {
     "data": {
      "text/plain": [
       "[0.0,\n",
       " 0.9527544408738466,\n",
       " 0.8644738145642124,\n",
       " 0.8951715163278082,\n",
       " 0.7770887149698589,\n",
       " 0.9402385695332803,\n",
       " 0.7327387580875756,\n",
       " 0.9258750683338899,\n",
       " 0.8842724875284311,\n",
       " 0.9055088817476932,\n",
       " 0.8328165362273942,\n",
       " 0.8804771390665607,\n",
       " 0.8396432548525454,\n",
       " 0.8703592552895671,\n",
       " 0.8740118423302576,\n",
       " 0.9442721787424647,\n",
       " 0.8406361854220809,\n",
       " 0.956644501523794,\n",
       " 0.9442721787424647,\n",
       " 0.8885443574849294,\n",
       " 0.8427572744917122,\n",
       " 0.8250364469440588]"
      ]
     },
     "execution_count": 51,
     "metadata": {},
     "output_type": "execute_result"
    }
   ],
   "source": [
    "dists"
   ]
  },
  {
   "cell_type": "code",
   "execution_count": 52,
   "metadata": {},
   "outputs": [],
   "source": [
    "dict1 = {}\n",
    "for i in range(0, len(dists)):\n",
    "    dict1[i] = dists[i]"
   ]
  },
  {
   "cell_type": "code",
   "execution_count": 53,
   "metadata": {},
   "outputs": [
    {
     "data": {
      "text/plain": [
       "{0: 0.0,\n",
       " 1: 0.9527544408738466,\n",
       " 2: 0.8644738145642124,\n",
       " 3: 0.8951715163278082,\n",
       " 4: 0.7770887149698589,\n",
       " 5: 0.9402385695332803,\n",
       " 6: 0.7327387580875756,\n",
       " 7: 0.9258750683338899,\n",
       " 8: 0.8842724875284311,\n",
       " 9: 0.9055088817476932,\n",
       " 10: 0.8328165362273942,\n",
       " 11: 0.8804771390665607,\n",
       " 12: 0.8396432548525454,\n",
       " 13: 0.8703592552895671,\n",
       " 14: 0.8740118423302576,\n",
       " 15: 0.9442721787424647,\n",
       " 16: 0.8406361854220809,\n",
       " 17: 0.956644501523794,\n",
       " 18: 0.9442721787424647,\n",
       " 19: 0.8885443574849294,\n",
       " 20: 0.8427572744917122,\n",
       " 21: 0.8250364469440588}"
      ]
     },
     "execution_count": 53,
     "metadata": {},
     "output_type": "execute_result"
    }
   ],
   "source": [
    "dict1"
   ]
  },
  {
   "cell_type": "code",
   "execution_count": 56,
   "metadata": {},
   "outputs": [
    {
     "name": "stdout",
     "output_type": "stream",
     "text": [
      "{0: 0.0, 1: 0.9527544408738466, 2: 0.8644738145642124, 3: 0.8951715163278082, 4: 0.7770887149698589, 5: 0.9402385695332803, 6: 0.7327387580875756, 7: 0.9258750683338899, 8: 0.8842724875284311, 9: 0.9055088817476932, 10: 0.8328165362273942, 11: 0.8804771390665607, 12: 0.8396432548525454, 13: 0.8703592552895671, 14: 0.8740118423302576, 15: 0.9442721787424647, 16: 0.8406361854220809, 17: 0.956644501523794, 18: 0.9442721787424647, 19: 0.8885443574849294, 20: 0.8427572744917122, 21: 0.8250364469440588}\n",
      "[6, 4]\n"
     ]
    }
   ],
   "source": [
    "m = sorted(dict1, key=dict1.get, reverse=False)\n",
    "print dict1\n",
    "m = m[1:3]\n",
    "print m"
   ]
  },
  {
   "cell_type": "code",
   "execution_count": 57,
   "metadata": {},
   "outputs": [],
   "source": [
    "f.close()"
   ]
  },
  {
   "cell_type": "code",
   "execution_count": 58,
   "metadata": {},
   "outputs": [],
   "source": [
    "with open('task1.txt','w') as file1:\n",
    "    file1.writelines(digit + ' ' for digit in map(str, m))"
   ]
  }
 ],
 "metadata": {
  "kernelspec": {
   "display_name": "Python 2",
   "language": "python",
   "name": "python2"
  },
  "language_info": {
   "codemirror_mode": {
    "name": "ipython",
    "version": 2
   },
   "file_extension": ".py",
   "mimetype": "text/x-python",
   "name": "python",
   "nbconvert_exporter": "python",
   "pygments_lexer": "ipython2",
   "version": "2.7.16"
  }
 },
 "nbformat": 4,
 "nbformat_minor": 2
}
